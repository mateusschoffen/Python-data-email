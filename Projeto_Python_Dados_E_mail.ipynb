{
  "nbformat": 4,
  "nbformat_minor": 0,
  "metadata": {
    "colab": {
      "name": "Projeto Python/Dados/E-mail.ipynb",
      "provenance": [],
      "mount_file_id": "1ZseCPfg1C3uVYrev16cvZlgPdidr4nxX",
      "authorship_tag": "ABX9TyN/QJzMqL48CA8cWINUqFtV",
      "include_colab_link": true
    },
    "kernelspec": {
      "name": "python3",
      "display_name": "Python 3"
    }
  },
  "cells": [
    {
      "cell_type": "markdown",
      "metadata": {
        "id": "view-in-github",
        "colab_type": "text"
      },
      "source": [
        "<a href=\"https://colab.research.google.com/github/mateusschoffen/Python-data-email/blob/main/Projeto_Python_Dados_E_mail.ipynb\" target=\"_parent\"><img src=\"https://colab.research.google.com/assets/colab-badge.svg\" alt=\"Open In Colab\"/></a>"
      ]
    },
    {
      "cell_type": "markdown",
      "metadata": {
        "id": "MxEQEVdFHfpO"
      },
      "source": [
        "* Projeto para automação da análise de dados e elaboração de relatórios e envio por e-mail."
      ]
    },
    {
      "cell_type": "code",
      "metadata": {
        "colab": {
          "base_uri": "https://localhost:8080/",
          "height": 402
        },
        "id": "WKlKO0jaG3m-",
        "outputId": "78c69436-a311-471c-dca2-de5d7b15036b"
      },
      "source": [
        "#Importação da biblioteca e base de dados:\r\n",
        "\r\n",
        "import pandas as pd\r\n",
        "df = pd.read_excel(r'/content/drive/MyDrive/Colab Notebooks/Python Dados E-mail/Vendas.xlsx')\r\n",
        "\r\n",
        "#Visualizar DataFrame\r\n",
        "display(df)\r\n"
      ],
      "execution_count": 2,
      "outputs": [
        {
          "output_type": "display_data",
          "data": {
            "text/html": [
              "<div>\n",
              "<style scoped>\n",
              "    .dataframe tbody tr th:only-of-type {\n",
              "        vertical-align: middle;\n",
              "    }\n",
              "\n",
              "    .dataframe tbody tr th {\n",
              "        vertical-align: top;\n",
              "    }\n",
              "\n",
              "    .dataframe thead th {\n",
              "        text-align: right;\n",
              "    }\n",
              "</style>\n",
              "<table border=\"1\" class=\"dataframe\">\n",
              "  <thead>\n",
              "    <tr style=\"text-align: right;\">\n",
              "      <th></th>\n",
              "      <th>Código Venda</th>\n",
              "      <th>Data</th>\n",
              "      <th>ID Loja</th>\n",
              "      <th>Produto</th>\n",
              "      <th>Quantidade</th>\n",
              "      <th>Valor Unitário</th>\n",
              "      <th>Valor Final</th>\n",
              "    </tr>\n",
              "  </thead>\n",
              "  <tbody>\n",
              "    <tr>\n",
              "      <th>0</th>\n",
              "      <td>1</td>\n",
              "      <td>2019-01-01</td>\n",
              "      <td>Iguatemi Esplanada</td>\n",
              "      <td>Sapato Estampa</td>\n",
              "      <td>1</td>\n",
              "      <td>358</td>\n",
              "      <td>358</td>\n",
              "    </tr>\n",
              "    <tr>\n",
              "      <th>1</th>\n",
              "      <td>1</td>\n",
              "      <td>2019-01-01</td>\n",
              "      <td>Iguatemi Esplanada</td>\n",
              "      <td>Camiseta</td>\n",
              "      <td>2</td>\n",
              "      <td>180</td>\n",
              "      <td>360</td>\n",
              "    </tr>\n",
              "    <tr>\n",
              "      <th>2</th>\n",
              "      <td>1</td>\n",
              "      <td>2019-01-01</td>\n",
              "      <td>Iguatemi Esplanada</td>\n",
              "      <td>Sapato Xadrez</td>\n",
              "      <td>1</td>\n",
              "      <td>368</td>\n",
              "      <td>368</td>\n",
              "    </tr>\n",
              "    <tr>\n",
              "      <th>3</th>\n",
              "      <td>2</td>\n",
              "      <td>2019-01-02</td>\n",
              "      <td>Norte Shopping</td>\n",
              "      <td>Relógio</td>\n",
              "      <td>3</td>\n",
              "      <td>200</td>\n",
              "      <td>600</td>\n",
              "    </tr>\n",
              "    <tr>\n",
              "      <th>4</th>\n",
              "      <td>2</td>\n",
              "      <td>2019-01-02</td>\n",
              "      <td>Norte Shopping</td>\n",
              "      <td>Chinelo Liso</td>\n",
              "      <td>1</td>\n",
              "      <td>71</td>\n",
              "      <td>71</td>\n",
              "    </tr>\n",
              "    <tr>\n",
              "      <th>...</th>\n",
              "      <td>...</td>\n",
              "      <td>...</td>\n",
              "      <td>...</td>\n",
              "      <td>...</td>\n",
              "      <td>...</td>\n",
              "      <td>...</td>\n",
              "      <td>...</td>\n",
              "    </tr>\n",
              "    <tr>\n",
              "      <th>100994</th>\n",
              "      <td>69996</td>\n",
              "      <td>2019-12-26</td>\n",
              "      <td>Center Shopping Uberlândia</td>\n",
              "      <td>Short Listrado</td>\n",
              "      <td>2</td>\n",
              "      <td>102</td>\n",
              "      <td>204</td>\n",
              "    </tr>\n",
              "    <tr>\n",
              "      <th>100995</th>\n",
              "      <td>69996</td>\n",
              "      <td>2019-12-26</td>\n",
              "      <td>Center Shopping Uberlândia</td>\n",
              "      <td>Mochila</td>\n",
              "      <td>4</td>\n",
              "      <td>270</td>\n",
              "      <td>1080</td>\n",
              "    </tr>\n",
              "    <tr>\n",
              "      <th>100996</th>\n",
              "      <td>69996</td>\n",
              "      <td>2019-12-26</td>\n",
              "      <td>Center Shopping Uberlândia</td>\n",
              "      <td>Pulseira Estampa</td>\n",
              "      <td>1</td>\n",
              "      <td>87</td>\n",
              "      <td>87</td>\n",
              "    </tr>\n",
              "    <tr>\n",
              "      <th>100997</th>\n",
              "      <td>69997</td>\n",
              "      <td>2019-12-26</td>\n",
              "      <td>Ribeirão Shopping</td>\n",
              "      <td>Camisa Listrado</td>\n",
              "      <td>1</td>\n",
              "      <td>108</td>\n",
              "      <td>108</td>\n",
              "    </tr>\n",
              "    <tr>\n",
              "      <th>100998</th>\n",
              "      <td>69997</td>\n",
              "      <td>2019-12-26</td>\n",
              "      <td>Ribeirão Shopping</td>\n",
              "      <td>Short Linho</td>\n",
              "      <td>2</td>\n",
              "      <td>133</td>\n",
              "      <td>266</td>\n",
              "    </tr>\n",
              "  </tbody>\n",
              "</table>\n",
              "<p>100999 rows × 7 columns</p>\n",
              "</div>"
            ],
            "text/plain": [
              "        Código Venda       Data  ... Valor Unitário Valor Final\n",
              "0                  1 2019-01-01  ...            358         358\n",
              "1                  1 2019-01-01  ...            180         360\n",
              "2                  1 2019-01-01  ...            368         368\n",
              "3                  2 2019-01-02  ...            200         600\n",
              "4                  2 2019-01-02  ...             71          71\n",
              "...              ...        ...  ...            ...         ...\n",
              "100994         69996 2019-12-26  ...            102         204\n",
              "100995         69996 2019-12-26  ...            270        1080\n",
              "100996         69996 2019-12-26  ...             87          87\n",
              "100997         69997 2019-12-26  ...            108         108\n",
              "100998         69997 2019-12-26  ...            133         266\n",
              "\n",
              "[100999 rows x 7 columns]"
            ]
          },
          "metadata": {
            "tags": []
          }
        }
      ]
    },
    {
      "cell_type": "markdown",
      "metadata": {
        "id": "WUfPNWdrHeJ6"
      },
      "source": [
        ""
      ]
    }
  ]
}